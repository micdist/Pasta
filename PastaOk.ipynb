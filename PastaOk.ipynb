{
  "nbformat": 4,
  "nbformat_minor": 0,
  "metadata": {
    "colab": {
      "name": "PastaOk.ipynb",
      "provenance": [],
      "collapsed_sections": [],
      "authorship_tag": "ABX9TyM88idl+9w1NlMYD2hwLEi1"
    },
    "kernelspec": {
      "name": "python3",
      "display_name": "Python 3"
    },
    "language_info": {
      "name": "python"
    }
  },
  "cells": [
    {
      "cell_type": "markdown",
      "metadata": {
        "id": "J8IiDBjw3UGC"
      },
      "source": [
        "# **Pasta length classifier**\n",
        "\n",
        "Were you missing a tool that matched your need for classification and your love for pasta?<br><br>\n",
        "This humble, ML powered (ResNet-18) and useless app aims to help with that, telling if you are dealing with short pasta or long pasta.<br><br>\n",
        "Whether you are just courious or want to navigate italian dishes by the size of our favourite carbs, give this thing a try.<br><br>\n",
        "** **Caveat Emptor** **<br><br>\n",
        "Pasta may contain gluten.<br>\n",
        "Composition on pasta is not relevant.       \n",
        "Should work with both cooked and raw pasta (packed or not).<br>\n",
        "Results may vary.<br>\n",
        "Results may be inconsistent or incorrect.<br> \n",
        "In case of inconsistent or incorrect results relax and measure the pasta yourself,  this app is just an exercise for the brilliant FastAi course."
      ]
    },
    {
      "cell_type": "code",
      "metadata": {
        "id": "kOv8QhOTfWFx"
      },
      "source": [
        "from fastai.vision.all import *\n",
        "from fastai.vision.widgets import *"
      ],
      "execution_count": 22,
      "outputs": []
    },
    {
      "cell_type": "code",
      "metadata": {
        "id": "52Gj3iZous2f"
      },
      "source": [
        "#hide\n",
        "!pip install -q voila\n",
        "!jupyter serverextension enable --sys-prefix voila"
      ],
      "execution_count": null,
      "outputs": []
    },
    {
      "cell_type": "code",
      "metadata": {
        "id": "dwVyiC3o0mzH"
      },
      "source": [
        "path = Path()\n",
        "learn_inf = load_learner(path/'bestPastaYet.pkl', cpu=True)\n",
        "btn_upload = widgets.FileUpload()\n",
        "out_pl = widgets.Output()\n",
        "lbl_pred = widgets.Label()"
      ],
      "execution_count": null,
      "outputs": []
    },
    {
      "cell_type": "code",
      "metadata": {
        "id": "KP8b-QFj1lUN"
      },
      "source": [
        "def on_data_change(change):\n",
        "    lbl_pred.value = ''\n",
        "    img = PILImage.create(btn_upload.data[-1])\n",
        "    out_pl.clear_output()\n",
        "    with out_pl: display(img.to_thumb(128,128))\n",
        "    pred,pred_idx,probs = learn_inf.predict(img)\n",
        "    lbl_pred.value = f'Prediction: {pred}; Probability: {probs[pred_idx]:.04f}'"
      ],
      "execution_count": null,
      "outputs": []
    },
    {
      "cell_type": "code",
      "metadata": {
        "id": "KF0Xu0Lq1tM3"
      },
      "source": [
        "btn_upload.observe(on_data_change, names=['data'])"
      ],
      "execution_count": null,
      "outputs": []
    },
    {
      "cell_type": "code",
      "metadata": {
        "id": "fmECPPrJ2uot"
      },
      "source": [
        "display(VBox([widgets.Label('Select your pasta!'), btn_upload, out_pl, lbl_pred]))"
      ],
      "execution_count": null,
      "outputs": []
    }
  ]
}