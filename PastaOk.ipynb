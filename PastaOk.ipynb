{
  "nbformat": 4,
  "nbformat_minor": 0,
  "metadata": {
    "colab": {
      "name": "PastaOk.ipynb",
      "provenance": [],
      "collapsed_sections": [],
      "authorship_tag": "ABX9TyOspEQGt4lZWElG4fOKbtrK"
    },
    "kernelspec": {
      "name": "python3",
      "display_name": "Python 3"
    },
    "language_info": {
      "name": "python"
    },
    "accelerator": "GPU",
    "widgets": {
      "application/vnd.jupyter.widget-state+json": {
        "ae5acb14a33b4dfca1f3a8ceb962939f": {
          "model_module": "@jupyter-widgets/controls",
          "model_name": "VBoxModel",
          "state": {
            "_view_name": "VBoxView",
            "_dom_classes": [],
            "_model_name": "VBoxModel",
            "_view_module": "@jupyter-widgets/controls",
            "_model_module_version": "1.5.0",
            "_view_count": null,
            "_view_module_version": "1.5.0",
            "box_style": "",
            "layout": "IPY_MODEL_a44de01cf6014a8188c37f16a74c2cd6",
            "_model_module": "@jupyter-widgets/controls",
            "children": [
              "IPY_MODEL_26c975e7c148439ab028bfc23431cd07",
              "IPY_MODEL_dd6c78dc419a46af9275e492aa31b75d",
              "IPY_MODEL_c8615ef2fa46464087958466750abb76",
              "IPY_MODEL_fd4f552fae874be696011a9efa4b5b4b"
            ]
          }
        },
        "a44de01cf6014a8188c37f16a74c2cd6": {
          "model_module": "@jupyter-widgets/base",
          "model_name": "LayoutModel",
          "state": {
            "_view_name": "LayoutView",
            "grid_template_rows": null,
            "right": null,
            "justify_content": null,
            "_view_module": "@jupyter-widgets/base",
            "overflow": null,
            "_model_module_version": "1.2.0",
            "_view_count": null,
            "flex_flow": null,
            "width": null,
            "min_width": null,
            "border": null,
            "align_items": null,
            "bottom": null,
            "_model_module": "@jupyter-widgets/base",
            "top": null,
            "grid_column": null,
            "overflow_y": null,
            "overflow_x": null,
            "grid_auto_flow": null,
            "grid_area": null,
            "grid_template_columns": null,
            "flex": null,
            "_model_name": "LayoutModel",
            "justify_items": null,
            "grid_row": null,
            "max_height": null,
            "align_content": null,
            "visibility": null,
            "align_self": null,
            "height": null,
            "min_height": null,
            "padding": null,
            "grid_auto_rows": null,
            "grid_gap": null,
            "max_width": null,
            "order": null,
            "_view_module_version": "1.2.0",
            "grid_template_areas": null,
            "object_position": null,
            "object_fit": null,
            "grid_auto_columns": null,
            "margin": null,
            "display": null,
            "left": null
          }
        },
        "26c975e7c148439ab028bfc23431cd07": {
          "model_module": "@jupyter-widgets/controls",
          "model_name": "LabelModel",
          "state": {
            "_view_name": "LabelView",
            "style": "IPY_MODEL_8b86d8a62d164fb2b1757327bf116d54",
            "_dom_classes": [],
            "description": "",
            "_model_name": "LabelModel",
            "placeholder": "​",
            "_view_module": "@jupyter-widgets/controls",
            "_model_module_version": "1.5.0",
            "value": "Select your pasta!",
            "_view_count": null,
            "_view_module_version": "1.5.0",
            "description_tooltip": null,
            "_model_module": "@jupyter-widgets/controls",
            "layout": "IPY_MODEL_b1002c8114b64740a774151c9df5beeb"
          }
        },
        "dd6c78dc419a46af9275e492aa31b75d": {
          "model_module": "@jupyter-widgets/controls",
          "model_name": "FileUploadModel",
          "state": {
            "_view_name": "FileUploadView",
            "_counter": 1,
            "style": "IPY_MODEL_cca0cb0ea6fd46abb5a18ca4382f4e54",
            "_dom_classes": [],
            "description": "Upload",
            "multiple": false,
            "_model_name": "FileUploadModel",
            "data": [
              null
            ],
            "button_style": "",
            "_view_module": "@jupyter-widgets/controls",
            "_model_module_version": "1.5.0",
            "accept": "",
            "_view_count": null,
            "disabled": false,
            "_view_module_version": "1.5.0",
            "error": "",
            "description_tooltip": null,
            "metadata": [
              {
                "name": "pentolaSpaghetti.jpg",
                "type": "image/jpeg",
                "size": 6236,
                "lastModified": 1621795427628
              }
            ],
            "_model_module": "@jupyter-widgets/controls",
            "layout": "IPY_MODEL_89bc1c3a30af459abf4f747981cee2bc",
            "icon": "upload"
          }
        },
        "c8615ef2fa46464087958466750abb76": {
          "model_module": "@jupyter-widgets/output",
          "model_name": "OutputModel",
          "state": {
            "_view_name": "OutputView",
            "msg_id": "",
            "_dom_classes": [],
            "_model_name": "OutputModel",
            "outputs": [
              {
                "output_type": "display_data",
                "metadata": {
                  "tags": []
                },
                "image/png": "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\n",
                "text/plain": "<PIL.Image.Image image mode=RGB size=128x84 at 0x7F81E0470250>"
              }
            ],
            "_view_module": "@jupyter-widgets/output",
            "_model_module_version": "1.0.0",
            "_view_count": null,
            "_view_module_version": "1.0.0",
            "layout": "IPY_MODEL_d5236e4fda5945318a9154cf59e31c85",
            "_model_module": "@jupyter-widgets/output"
          }
        },
        "fd4f552fae874be696011a9efa4b5b4b": {
          "model_module": "@jupyter-widgets/controls",
          "model_name": "LabelModel",
          "state": {
            "_view_name": "LabelView",
            "style": "IPY_MODEL_61ee14f6317443969e9366e5b7a93879",
            "_dom_classes": [],
            "description": "",
            "_model_name": "LabelModel",
            "placeholder": "​",
            "_view_module": "@jupyter-widgets/controls",
            "_model_module_version": "1.5.0",
            "value": "Prediction: corta; Probability: 0.5584",
            "_view_count": null,
            "_view_module_version": "1.5.0",
            "description_tooltip": null,
            "_model_module": "@jupyter-widgets/controls",
            "layout": "IPY_MODEL_febb083174ca4d6584ccbbdb0eaf01b6"
          }
        },
        "8b86d8a62d164fb2b1757327bf116d54": {
          "model_module": "@jupyter-widgets/controls",
          "model_name": "DescriptionStyleModel",
          "state": {
            "_view_name": "StyleView",
            "_model_name": "DescriptionStyleModel",
            "description_width": "",
            "_view_module": "@jupyter-widgets/base",
            "_model_module_version": "1.5.0",
            "_view_count": null,
            "_view_module_version": "1.2.0",
            "_model_module": "@jupyter-widgets/controls"
          }
        },
        "b1002c8114b64740a774151c9df5beeb": {
          "model_module": "@jupyter-widgets/base",
          "model_name": "LayoutModel",
          "state": {
            "_view_name": "LayoutView",
            "grid_template_rows": null,
            "right": null,
            "justify_content": null,
            "_view_module": "@jupyter-widgets/base",
            "overflow": null,
            "_model_module_version": "1.2.0",
            "_view_count": null,
            "flex_flow": null,
            "width": null,
            "min_width": null,
            "border": null,
            "align_items": null,
            "bottom": null,
            "_model_module": "@jupyter-widgets/base",
            "top": null,
            "grid_column": null,
            "overflow_y": null,
            "overflow_x": null,
            "grid_auto_flow": null,
            "grid_area": null,
            "grid_template_columns": null,
            "flex": null,
            "_model_name": "LayoutModel",
            "justify_items": null,
            "grid_row": null,
            "max_height": null,
            "align_content": null,
            "visibility": null,
            "align_self": null,
            "height": null,
            "min_height": null,
            "padding": null,
            "grid_auto_rows": null,
            "grid_gap": null,
            "max_width": null,
            "order": null,
            "_view_module_version": "1.2.0",
            "grid_template_areas": null,
            "object_position": null,
            "object_fit": null,
            "grid_auto_columns": null,
            "margin": null,
            "display": null,
            "left": null
          }
        },
        "cca0cb0ea6fd46abb5a18ca4382f4e54": {
          "model_module": "@jupyter-widgets/controls",
          "model_name": "ButtonStyleModel",
          "state": {
            "_view_name": "StyleView",
            "_model_name": "ButtonStyleModel",
            "_view_module": "@jupyter-widgets/base",
            "_model_module_version": "1.5.0",
            "_view_count": null,
            "button_color": null,
            "font_weight": "",
            "_view_module_version": "1.2.0",
            "_model_module": "@jupyter-widgets/controls"
          }
        },
        "89bc1c3a30af459abf4f747981cee2bc": {
          "model_module": "@jupyter-widgets/base",
          "model_name": "LayoutModel",
          "state": {
            "_view_name": "LayoutView",
            "grid_template_rows": null,
            "right": null,
            "justify_content": null,
            "_view_module": "@jupyter-widgets/base",
            "overflow": null,
            "_model_module_version": "1.2.0",
            "_view_count": null,
            "flex_flow": null,
            "width": null,
            "min_width": null,
            "border": null,
            "align_items": null,
            "bottom": null,
            "_model_module": "@jupyter-widgets/base",
            "top": null,
            "grid_column": null,
            "overflow_y": null,
            "overflow_x": null,
            "grid_auto_flow": null,
            "grid_area": null,
            "grid_template_columns": null,
            "flex": null,
            "_model_name": "LayoutModel",
            "justify_items": null,
            "grid_row": null,
            "max_height": null,
            "align_content": null,
            "visibility": null,
            "align_self": null,
            "height": null,
            "min_height": null,
            "padding": null,
            "grid_auto_rows": null,
            "grid_gap": null,
            "max_width": null,
            "order": null,
            "_view_module_version": "1.2.0",
            "grid_template_areas": null,
            "object_position": null,
            "object_fit": null,
            "grid_auto_columns": null,
            "margin": null,
            "display": null,
            "left": null
          }
        },
        "61ee14f6317443969e9366e5b7a93879": {
          "model_module": "@jupyter-widgets/controls",
          "model_name": "DescriptionStyleModel",
          "state": {
            "_view_name": "StyleView",
            "_model_name": "DescriptionStyleModel",
            "description_width": "",
            "_view_module": "@jupyter-widgets/base",
            "_model_module_version": "1.5.0",
            "_view_count": null,
            "_view_module_version": "1.2.0",
            "_model_module": "@jupyter-widgets/controls"
          }
        },
        "febb083174ca4d6584ccbbdb0eaf01b6": {
          "model_module": "@jupyter-widgets/base",
          "model_name": "LayoutModel",
          "state": {
            "_view_name": "LayoutView",
            "grid_template_rows": null,
            "right": null,
            "justify_content": null,
            "_view_module": "@jupyter-widgets/base",
            "overflow": null,
            "_model_module_version": "1.2.0",
            "_view_count": null,
            "flex_flow": null,
            "width": null,
            "min_width": null,
            "border": null,
            "align_items": null,
            "bottom": null,
            "_model_module": "@jupyter-widgets/base",
            "top": null,
            "grid_column": null,
            "overflow_y": null,
            "overflow_x": null,
            "grid_auto_flow": null,
            "grid_area": null,
            "grid_template_columns": null,
            "flex": null,
            "_model_name": "LayoutModel",
            "justify_items": null,
            "grid_row": null,
            "max_height": null,
            "align_content": null,
            "visibility": null,
            "align_self": null,
            "height": null,
            "min_height": null,
            "padding": null,
            "grid_auto_rows": null,
            "grid_gap": null,
            "max_width": null,
            "order": null,
            "_view_module_version": "1.2.0",
            "grid_template_areas": null,
            "object_position": null,
            "object_fit": null,
            "grid_auto_columns": null,
            "margin": null,
            "display": null,
            "left": null
          }
        },
        "d5236e4fda5945318a9154cf59e31c85": {
          "model_module": "@jupyter-widgets/base",
          "model_name": "LayoutModel",
          "state": {
            "_view_name": "LayoutView",
            "grid_template_rows": null,
            "right": null,
            "justify_content": null,
            "_view_module": "@jupyter-widgets/base",
            "overflow": null,
            "_model_module_version": "1.2.0",
            "_view_count": null,
            "flex_flow": null,
            "width": null,
            "min_width": null,
            "border": null,
            "align_items": null,
            "bottom": null,
            "_model_module": "@jupyter-widgets/base",
            "top": null,
            "grid_column": null,
            "overflow_y": null,
            "overflow_x": null,
            "grid_auto_flow": null,
            "grid_area": null,
            "grid_template_columns": null,
            "flex": null,
            "_model_name": "LayoutModel",
            "justify_items": null,
            "grid_row": null,
            "max_height": null,
            "align_content": null,
            "visibility": null,
            "align_self": null,
            "height": null,
            "min_height": null,
            "padding": null,
            "grid_auto_rows": null,
            "grid_gap": null,
            "max_width": null,
            "order": null,
            "_view_module_version": "1.2.0",
            "grid_template_areas": null,
            "object_position": null,
            "object_fit": null,
            "grid_auto_columns": null,
            "margin": null,
            "display": null,
            "left": null
          }
        }
      }
    }
  },
  "cells": [
    {
      "cell_type": "markdown",
      "metadata": {
        "id": "J8IiDBjw3UGC"
      },
      "source": [
        "# **Pasta length classifier**\n",
        "\n",
        "Were you missing a tool that matched your need for classification and your love for pasta?\n",
        "\n",
        "This humble, ML powered (ResNet-18) and useless app aims to help with that, telling if you are dealing with short pasta or long pasta. \n",
        "\n",
        "Whether you are just courious or want to navigate italian dishes by the size of our favourite carbs, give this thing a try.<br><br>\n",
        "** **Caveat Emptor** **                                                    \n",
        "<p>Pasta may contain gluten.<br>\n",
        "Composition on pasta is not relevant.<br>       \n",
        "Should work with both cooked and raw pasta (packed or not).<br>\n",
        "Results may vary.<br>\n",
        "Results may be inconsistent or incorrect.<br> \n",
        "In case of inconsistent or incorrect results relax and measure the pasta yourself,  this app is just an exercise for the brilliant FastAi course."
      ]
    },
    {
      "cell_type": "code",
      "metadata": {
        "id": "Bs5Cw2262TmU"
      },
      "source": [
        "!pip install -U fastbook\n",
        "import fastbook"
      ],
      "execution_count": null,
      "outputs": []
    },
    {
      "cell_type": "code",
      "metadata": {
        "id": "VLDeFd7C0Avm"
      },
      "source": [
        "!pip install voila\n",
        "!jupyter serverextension enable --sys-prefix voila "
      ],
      "execution_count": null,
      "outputs": []
    },
    {
      "cell_type": "code",
      "metadata": {
        "id": "xPVrxU8u10hL"
      },
      "source": [
        "from fastai.vision.all import *\n",
        "from fastai.vision.widgets import *"
      ],
      "execution_count": 5,
      "outputs": []
    },
    {
      "cell_type": "code",
      "metadata": {
        "id": "yCBsY_Ly1Et8"
      },
      "source": [
        "\n",
        "path = Path()\n",
        "learn_inf = load_learner(path/'bestPastaYet.pkl', cpu=True)\n",
        "btn_upload = widgets.FileUpload()\n",
        "out_pl = widgets.Output()\n",
        "lbl_pred = widgets.Label()"
      ],
      "execution_count": 6,
      "outputs": []
    },
    {
      "cell_type": "code",
      "metadata": {
        "id": "KP8b-QFj1lUN"
      },
      "source": [
        "def on_data_change(change):\n",
        "    lbl_pred.value = ''\n",
        "    img = PILImage.create(btn_upload.data[-1])\n",
        "    out_pl.clear_output()\n",
        "    with out_pl: display(img.to_thumb(128,128))\n",
        "    pred,pred_idx,probs = learn_inf.predict(img)\n",
        "    lbl_pred.value = f'Prediction: {pred}; Probability: {probs[pred_idx]:.04f}'"
      ],
      "execution_count": 7,
      "outputs": []
    },
    {
      "cell_type": "code",
      "metadata": {
        "id": "KF0Xu0Lq1tM3"
      },
      "source": [
        "btn_upload.observe(on_data_change, names=['data'])"
      ],
      "execution_count": 8,
      "outputs": []
    },
    {
      "cell_type": "code",
      "metadata": {
        "colab": {
          "base_uri": "https://localhost:8080/",
          "height": 197,
          "referenced_widgets": [
            "ae5acb14a33b4dfca1f3a8ceb962939f",
            "a44de01cf6014a8188c37f16a74c2cd6",
            "26c975e7c148439ab028bfc23431cd07",
            "dd6c78dc419a46af9275e492aa31b75d",
            "c8615ef2fa46464087958466750abb76",
            "fd4f552fae874be696011a9efa4b5b4b",
            "8b86d8a62d164fb2b1757327bf116d54",
            "b1002c8114b64740a774151c9df5beeb",
            "cca0cb0ea6fd46abb5a18ca4382f4e54",
            "89bc1c3a30af459abf4f747981cee2bc",
            "61ee14f6317443969e9366e5b7a93879",
            "febb083174ca4d6584ccbbdb0eaf01b6",
            "d5236e4fda5945318a9154cf59e31c85"
          ]
        },
        "id": "fmECPPrJ2uot",
        "outputId": "06b85d3e-a3bb-4f3a-a477-b91c51f81ca7"
      },
      "source": [
        "display(VBox([widgets.Label('Select your pasta!'), btn_upload, out_pl, lbl_pred]))"
      ],
      "execution_count": 9,
      "outputs": [
        {
          "output_type": "display_data",
          "data": {
            "application/vnd.jupyter.widget-view+json": {
              "model_id": "ae5acb14a33b4dfca1f3a8ceb962939f",
              "version_minor": 0,
              "version_major": 2
            },
            "text/plain": [
              "VBox(children=(Label(value='Select your pasta!'), FileUpload(value={}, description='Upload'), Output(), Label(…"
            ]
          },
          "metadata": {
            "tags": []
          }
        },
        {
          "output_type": "display_data",
          "data": {
            "text/html": [
              ""
            ],
            "text/plain": [
              "<IPython.core.display.HTML object>"
            ]
          },
          "metadata": {
            "tags": []
          }
        }
      ]
    }
  ]
}