{
  "nbformat": 4,
  "nbformat_minor": 0,
  "metadata": {
    "colab": {
      "name": "PastaOk.ipynb",
      "provenance": [],
      "collapsed_sections": [],
      "authorship_tag": "ABX9TyPV4ihDxUw0J/5pLrOqYaEw"
    },
    "kernelspec": {
      "name": "python3",
      "display_name": "Python 3"
    },
    "language_info": {
      "name": "python"
    },
    "widgets": {
      "application/vnd.jupyter.widget-state+json": {
        "4539314a52a94cb7b3e3326c7ffc5c75": {
          "model_module": "@jupyter-widgets/controls",
          "model_name": "VBoxModel",
          "state": {
            "_view_name": "VBoxView",
            "_dom_classes": [],
            "_model_name": "VBoxModel",
            "_view_module": "@jupyter-widgets/controls",
            "_model_module_version": "1.5.0",
            "_view_count": null,
            "_view_module_version": "1.5.0",
            "box_style": "",
            "layout": "IPY_MODEL_97871cf4a40b4885b7a73e6115a125e0",
            "_model_module": "@jupyter-widgets/controls",
            "children": [
              "IPY_MODEL_7a4e8ab57eb1400e9947a313a81c5221",
              "IPY_MODEL_5eebf0b5f2c8442a8b1c313014809cbe",
              "IPY_MODEL_8d19a58f41c346538ee7f595a1fa9b9b",
              "IPY_MODEL_79d292939d2f4a1ab6b010809f6aeebe"
            ]
          }
        },
        "97871cf4a40b4885b7a73e6115a125e0": {
          "model_module": "@jupyter-widgets/base",
          "model_name": "LayoutModel",
          "state": {
            "_view_name": "LayoutView",
            "grid_template_rows": null,
            "right": null,
            "justify_content": null,
            "_view_module": "@jupyter-widgets/base",
            "overflow": null,
            "_model_module_version": "1.2.0",
            "_view_count": null,
            "flex_flow": null,
            "width": null,
            "min_width": null,
            "border": null,
            "align_items": null,
            "bottom": null,
            "_model_module": "@jupyter-widgets/base",
            "top": null,
            "grid_column": null,
            "overflow_y": null,
            "overflow_x": null,
            "grid_auto_flow": null,
            "grid_area": null,
            "grid_template_columns": null,
            "flex": null,
            "_model_name": "LayoutModel",
            "justify_items": null,
            "grid_row": null,
            "max_height": null,
            "align_content": null,
            "visibility": null,
            "align_self": null,
            "height": null,
            "min_height": null,
            "padding": null,
            "grid_auto_rows": null,
            "grid_gap": null,
            "max_width": null,
            "order": null,
            "_view_module_version": "1.2.0",
            "grid_template_areas": null,
            "object_position": null,
            "object_fit": null,
            "grid_auto_columns": null,
            "margin": null,
            "display": null,
            "left": null
          }
        },
        "7a4e8ab57eb1400e9947a313a81c5221": {
          "model_module": "@jupyter-widgets/controls",
          "model_name": "LabelModel",
          "state": {
            "_view_name": "LabelView",
            "style": "IPY_MODEL_14f81caa398347a68e7ff71c836981c9",
            "_dom_classes": [],
            "description": "",
            "_model_name": "LabelModel",
            "placeholder": "​",
            "_view_module": "@jupyter-widgets/controls",
            "_model_module_version": "1.5.0",
            "value": "Select your pasta!",
            "_view_count": null,
            "_view_module_version": "1.5.0",
            "description_tooltip": null,
            "_model_module": "@jupyter-widgets/controls",
            "layout": "IPY_MODEL_d82b6a9732d5417d87d08e297b5aa7b6"
          }
        },
        "5eebf0b5f2c8442a8b1c313014809cbe": {
          "model_module": "@jupyter-widgets/controls",
          "model_name": "FileUploadModel",
          "state": {
            "_view_name": "FileUploadView",
            "_counter": 1,
            "style": "IPY_MODEL_6510c271620e43cda879dd4dbdc1cda2",
            "_dom_classes": [],
            "description": "Upload",
            "multiple": false,
            "_model_name": "FileUploadModel",
            "data": [
              null
            ],
            "button_style": "",
            "_view_module": "@jupyter-widgets/controls",
            "_model_module_version": "1.5.0",
            "accept": "",
            "_view_count": null,
            "disabled": false,
            "_view_module_version": "1.5.0",
            "error": "",
            "description_tooltip": null,
            "metadata": [
              {
                "name": "rigatoniForno.jpg",
                "type": "image/jpeg",
                "size": 66341,
                "lastModified": 1622239398318
              }
            ],
            "_model_module": "@jupyter-widgets/controls",
            "layout": "IPY_MODEL_8747fc1c44ae4f1898076bf5ac1537d2",
            "icon": "upload"
          }
        },
        "8d19a58f41c346538ee7f595a1fa9b9b": {
          "model_module": "@jupyter-widgets/output",
          "model_name": "OutputModel",
          "state": {
            "_view_name": "OutputView",
            "msg_id": "",
            "_dom_classes": [],
            "_model_name": "OutputModel",
            "outputs": [
              {
                "output_type": "display_data",
                "metadata": {
                  "tags": []
                },
                "image/png": "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\n",
                "text/plain": "<PIL.Image.Image image mode=RGB size=85x128 at 0x7F6472E33C90>"
              }
            ],
            "_view_module": "@jupyter-widgets/output",
            "_model_module_version": "1.0.0",
            "_view_count": null,
            "_view_module_version": "1.0.0",
            "layout": "IPY_MODEL_e3d658f73a7b492d8920d048b7253b36",
            "_model_module": "@jupyter-widgets/output"
          }
        },
        "79d292939d2f4a1ab6b010809f6aeebe": {
          "model_module": "@jupyter-widgets/controls",
          "model_name": "LabelModel",
          "state": {
            "_view_name": "LabelView",
            "style": "IPY_MODEL_776868466e834d728ef67c31a6a2ff93",
            "_dom_classes": [],
            "description": "",
            "_model_name": "LabelModel",
            "placeholder": "​",
            "_view_module": "@jupyter-widgets/controls",
            "_model_module_version": "1.5.0",
            "value": "Prediction: corta; Probability: 0.9701",
            "_view_count": null,
            "_view_module_version": "1.5.0",
            "description_tooltip": null,
            "_model_module": "@jupyter-widgets/controls",
            "layout": "IPY_MODEL_ae3f44a6d1274253914f3d035d6757f9"
          }
        },
        "14f81caa398347a68e7ff71c836981c9": {
          "model_module": "@jupyter-widgets/controls",
          "model_name": "DescriptionStyleModel",
          "state": {
            "_view_name": "StyleView",
            "_model_name": "DescriptionStyleModel",
            "description_width": "",
            "_view_module": "@jupyter-widgets/base",
            "_model_module_version": "1.5.0",
            "_view_count": null,
            "_view_module_version": "1.2.0",
            "_model_module": "@jupyter-widgets/controls"
          }
        },
        "d82b6a9732d5417d87d08e297b5aa7b6": {
          "model_module": "@jupyter-widgets/base",
          "model_name": "LayoutModel",
          "state": {
            "_view_name": "LayoutView",
            "grid_template_rows": null,
            "right": null,
            "justify_content": null,
            "_view_module": "@jupyter-widgets/base",
            "overflow": null,
            "_model_module_version": "1.2.0",
            "_view_count": null,
            "flex_flow": null,
            "width": null,
            "min_width": null,
            "border": null,
            "align_items": null,
            "bottom": null,
            "_model_module": "@jupyter-widgets/base",
            "top": null,
            "grid_column": null,
            "overflow_y": null,
            "overflow_x": null,
            "grid_auto_flow": null,
            "grid_area": null,
            "grid_template_columns": null,
            "flex": null,
            "_model_name": "LayoutModel",
            "justify_items": null,
            "grid_row": null,
            "max_height": null,
            "align_content": null,
            "visibility": null,
            "align_self": null,
            "height": null,
            "min_height": null,
            "padding": null,
            "grid_auto_rows": null,
            "grid_gap": null,
            "max_width": null,
            "order": null,
            "_view_module_version": "1.2.0",
            "grid_template_areas": null,
            "object_position": null,
            "object_fit": null,
            "grid_auto_columns": null,
            "margin": null,
            "display": null,
            "left": null
          }
        },
        "6510c271620e43cda879dd4dbdc1cda2": {
          "model_module": "@jupyter-widgets/controls",
          "model_name": "ButtonStyleModel",
          "state": {
            "_view_name": "StyleView",
            "_model_name": "ButtonStyleModel",
            "_view_module": "@jupyter-widgets/base",
            "_model_module_version": "1.5.0",
            "_view_count": null,
            "button_color": null,
            "font_weight": "",
            "_view_module_version": "1.2.0",
            "_model_module": "@jupyter-widgets/controls"
          }
        },
        "8747fc1c44ae4f1898076bf5ac1537d2": {
          "model_module": "@jupyter-widgets/base",
          "model_name": "LayoutModel",
          "state": {
            "_view_name": "LayoutView",
            "grid_template_rows": null,
            "right": null,
            "justify_content": null,
            "_view_module": "@jupyter-widgets/base",
            "overflow": null,
            "_model_module_version": "1.2.0",
            "_view_count": null,
            "flex_flow": null,
            "width": null,
            "min_width": null,
            "border": null,
            "align_items": null,
            "bottom": null,
            "_model_module": "@jupyter-widgets/base",
            "top": null,
            "grid_column": null,
            "overflow_y": null,
            "overflow_x": null,
            "grid_auto_flow": null,
            "grid_area": null,
            "grid_template_columns": null,
            "flex": null,
            "_model_name": "LayoutModel",
            "justify_items": null,
            "grid_row": null,
            "max_height": null,
            "align_content": null,
            "visibility": null,
            "align_self": null,
            "height": null,
            "min_height": null,
            "padding": null,
            "grid_auto_rows": null,
            "grid_gap": null,
            "max_width": null,
            "order": null,
            "_view_module_version": "1.2.0",
            "grid_template_areas": null,
            "object_position": null,
            "object_fit": null,
            "grid_auto_columns": null,
            "margin": null,
            "display": null,
            "left": null
          }
        },
        "776868466e834d728ef67c31a6a2ff93": {
          "model_module": "@jupyter-widgets/controls",
          "model_name": "DescriptionStyleModel",
          "state": {
            "_view_name": "StyleView",
            "_model_name": "DescriptionStyleModel",
            "description_width": "",
            "_view_module": "@jupyter-widgets/base",
            "_model_module_version": "1.5.0",
            "_view_count": null,
            "_view_module_version": "1.2.0",
            "_model_module": "@jupyter-widgets/controls"
          }
        },
        "ae3f44a6d1274253914f3d035d6757f9": {
          "model_module": "@jupyter-widgets/base",
          "model_name": "LayoutModel",
          "state": {
            "_view_name": "LayoutView",
            "grid_template_rows": null,
            "right": null,
            "justify_content": null,
            "_view_module": "@jupyter-widgets/base",
            "overflow": null,
            "_model_module_version": "1.2.0",
            "_view_count": null,
            "flex_flow": null,
            "width": null,
            "min_width": null,
            "border": null,
            "align_items": null,
            "bottom": null,
            "_model_module": "@jupyter-widgets/base",
            "top": null,
            "grid_column": null,
            "overflow_y": null,
            "overflow_x": null,
            "grid_auto_flow": null,
            "grid_area": null,
            "grid_template_columns": null,
            "flex": null,
            "_model_name": "LayoutModel",
            "justify_items": null,
            "grid_row": null,
            "max_height": null,
            "align_content": null,
            "visibility": null,
            "align_self": null,
            "height": null,
            "min_height": null,
            "padding": null,
            "grid_auto_rows": null,
            "grid_gap": null,
            "max_width": null,
            "order": null,
            "_view_module_version": "1.2.0",
            "grid_template_areas": null,
            "object_position": null,
            "object_fit": null,
            "grid_auto_columns": null,
            "margin": null,
            "display": null,
            "left": null
          }
        },
        "e3d658f73a7b492d8920d048b7253b36": {
          "model_module": "@jupyter-widgets/base",
          "model_name": "LayoutModel",
          "state": {
            "_view_name": "LayoutView",
            "grid_template_rows": null,
            "right": null,
            "justify_content": null,
            "_view_module": "@jupyter-widgets/base",
            "overflow": null,
            "_model_module_version": "1.2.0",
            "_view_count": null,
            "flex_flow": null,
            "width": null,
            "min_width": null,
            "border": null,
            "align_items": null,
            "bottom": null,
            "_model_module": "@jupyter-widgets/base",
            "top": null,
            "grid_column": null,
            "overflow_y": null,
            "overflow_x": null,
            "grid_auto_flow": null,
            "grid_area": null,
            "grid_template_columns": null,
            "flex": null,
            "_model_name": "LayoutModel",
            "justify_items": null,
            "grid_row": null,
            "max_height": null,
            "align_content": null,
            "visibility": null,
            "align_self": null,
            "height": null,
            "min_height": null,
            "padding": null,
            "grid_auto_rows": null,
            "grid_gap": null,
            "max_width": null,
            "order": null,
            "_view_module_version": "1.2.0",
            "grid_template_areas": null,
            "object_position": null,
            "object_fit": null,
            "grid_auto_columns": null,
            "margin": null,
            "display": null,
            "left": null
          }
        }
      }
    }
  },
  "cells": [
    {
      "cell_type": "markdown",
      "metadata": {
        "id": "J8IiDBjw3UGC"
      },
      "source": [
        "# **Pasta length classifier**\n",
        "\n",
        "Were you missing a tool that matched your need for classification and your love for pasta?<br><br>\n",
        "This humble, ML powered (ResNet-18) and useless app aims to help with that, telling if you are dealing with short pasta or long pasta.<br><br>\n",
        "Whether you are just courious or want to navigate italian dishes by the size of our favourite carbs, give this thing a try.<br><br>\n",
        "** **Caveat Emptor** **<br><br>\n",
        "Pasta may contain gluten.<br>\n",
        "Composition on pasta is not relevant.       \n",
        "Should work with both cooked and raw pasta (packed or not).<br>\n",
        "Results may vary.<br>\n",
        "Results may be inconsistent or incorrect.<br> \n",
        "In case of inconsistent or incorrect results relax and measure the pasta yourself,  this app is just an exercise for the brilliant FastAi course."
      ]
    },
    {
      "cell_type": "code",
      "metadata": {
        "id": "RqvUfD-_ms5S"
      },
      "source": [
        "#hide\n",
        "#!pip install -q fastai --upgrade"
      ],
      "execution_count": 21,
      "outputs": []
    },
    {
      "cell_type": "code",
      "metadata": {
        "id": "kOv8QhOTfWFx"
      },
      "source": [
        "from fastai.vision.all import *\n",
        "from fastai.vision.widgets import *"
      ],
      "execution_count": 22,
      "outputs": []
    },
    {
      "cell_type": "code",
      "metadata": {
        "id": "52Gj3iZous2f"
      },
      "source": [
        "#hide\n",
        "!pip install -q voila "
      ],
      "execution_count": null,
      "outputs": []
    },
    {
      "cell_type": "code",
      "metadata": {
        "id": "B0mWoQPmuyH1"
      },
      "source": [
        "#hide\n",
        "!jupyter serverextension enable --sys-prefix voila"
      ],
      "execution_count": 41,
      "outputs": []
    },
    {
      "cell_type": "code",
      "metadata": {
        "id": "KP8b-QFj1lUN"
      },
      "source": [
        "def on_data_change(change):\n",
        "    lbl_pred.value = ''\n",
        "    img = PILImage.create(btn_upload.data[-1])\n",
        "    out_pl.clear_output()\n",
        "    with out_pl: display(img.to_thumb(128,128))\n",
        "    pred,pred_idx,probs = learn_inf.predict(img)\n",
        "    lbl_pred.value = f'Prediction: {pred}; Probability: {probs[pred_idx]:.04f}'"
      ],
      "execution_count": null,
      "outputs": []
    },
    {
      "cell_type": "code",
      "metadata": {
        "id": "KF0Xu0Lq1tM3"
      },
      "source": [
        "btn_upload.observe(on_data_change, names=['data'])"
      ],
      "execution_count": null,
      "outputs": []
    },
    {
      "cell_type": "code",
      "metadata": {
        "id": "fmECPPrJ2uot",
        "colab": {
          "base_uri": "https://localhost:8080/",
          "height": 241,
          "referenced_widgets": [
            "4539314a52a94cb7b3e3326c7ffc5c75",
            "97871cf4a40b4885b7a73e6115a125e0",
            "7a4e8ab57eb1400e9947a313a81c5221",
            "5eebf0b5f2c8442a8b1c313014809cbe",
            "8d19a58f41c346538ee7f595a1fa9b9b",
            "79d292939d2f4a1ab6b010809f6aeebe",
            "14f81caa398347a68e7ff71c836981c9",
            "d82b6a9732d5417d87d08e297b5aa7b6",
            "6510c271620e43cda879dd4dbdc1cda2",
            "8747fc1c44ae4f1898076bf5ac1537d2",
            "776868466e834d728ef67c31a6a2ff93",
            "ae3f44a6d1274253914f3d035d6757f9",
            "e3d658f73a7b492d8920d048b7253b36"
          ]
        },
        "outputId": "628f7aae-9912-4e1b-a3c9-0089604a49e0"
      },
      "source": [
        "display(VBox([widgets.Label('Select your pasta!'), btn_upload, out_pl, lbl_pred]))"
      ],
      "execution_count": null,
      "outputs": [
        {
          "output_type": "display_data",
          "data": {
            "application/vnd.jupyter.widget-view+json": {
              "model_id": "4539314a52a94cb7b3e3326c7ffc5c75",
              "version_minor": 0,
              "version_major": 2
            },
            "text/plain": [
              "VBox(children=(Label(value='Select your pasta!'), FileUpload(value={}, description='Upload'), Output(), Label(…"
            ]
          },
          "metadata": {
            "tags": []
          }
        },
        {
          "output_type": "display_data",
          "data": {
            "text/html": [
              ""
            ],
            "text/plain": [
              "<IPython.core.display.HTML object>"
            ]
          },
          "metadata": {
            "tags": []
          }
        }
      ]
    }
  ]
}